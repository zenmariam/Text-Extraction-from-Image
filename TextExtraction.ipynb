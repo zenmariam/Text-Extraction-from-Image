{
  "nbformat": 4,
  "nbformat_minor": 0,
  "metadata": {
    "colab": {
      "provenance": []
    },
    "kernelspec": {
      "name": "python3",
      "display_name": "Python 3"
    },
    "language_info": {
      "name": "python"
    }
  },
  "cells": [
    {
      "cell_type": "markdown",
      "source": [
        "Import requests to install tesseract"
      ],
      "metadata": {
        "id": "XakkbO_dNNdb"
      }
    },
    {
      "cell_type": "code",
      "execution_count": 2,
      "metadata": {
        "id": "IB2Iche1M6gN"
      },
      "outputs": [],
      "source": [
        " # import requests to install tesseract\n",
        "\n",
        " import requests"
      ]
    },
    {
      "cell_type": "markdown",
      "source": [],
      "metadata": {
        "id": "Kde0q66nNKxM"
      }
    },
    {
      "cell_type": "code",
      "source": [
        "d = requests.get(\"https://raw.githubusercontent.com/tesseract-ocr/tessdata/4.00/ind.traineddata\", stream=True)\n",
        "\n",
        "with open(\"/usr/share/tesseract-ocr/4.00/tessdata/ind.traineddata\", \"wb\") as file:\n",
        "  for block in d.iter_content(chunk_size=1024):\n",
        "    if block:\n",
        "      file.write(block)"
      ],
      "metadata": {
        "id": "SD5QVerqNKE4"
      },
      "execution_count": 3,
      "outputs": []
    },
    {
      "cell_type": "code",
      "source": [
        "# Install libraries for Optical Character Recognition:\n",
        "\n",
        "! apt install tesseract-ocr libtesseract-dev libmagickwand-dev\n",
        "\n",
        "# Clearing Unimportant output:\n",
        "\n",
        "from IPython.display import HTML, clear_output\n",
        "clear_output()\n"
      ],
      "metadata": {
        "id": "dlLI2-llOsKh"
      },
      "execution_count": 5,
      "outputs": []
    },
    {
      "cell_type": "code",
      "source": [
        "! pip install pytesseract wand opencv-python\n",
        "clear_output()"
      ],
      "metadata": {
        "id": "PCklaDc1PlC9"
      },
      "execution_count": 6,
      "outputs": []
    },
    {
      "cell_type": "code",
      "source": [
        "# Import required libraries:\n",
        "\n",
        "from PIL import Image\n",
        "import pytesseract\n",
        "import cv2\n",
        "import numpy as np\n",
        "from pytesseract import Output\n",
        "import re"
      ],
      "metadata": {
        "id": "n-1g-1E7P3QV"
      },
      "execution_count": 7,
      "outputs": []
    },
    {
      "cell_type": "code",
      "source": [
        "# Reading the image:\n",
        "\n",
        "image = Image.open(requests.get('https://i.stack.imgur.com/d4c2B.png', stream=True).raw)\n",
        "image = image.resize((300,150))\n",
        "image.save('example.png')\n",
        "image"
      ],
      "metadata": {
        "colab": {
          "base_uri": "https://localhost:8080/",
          "height": 167
        },
        "id": "NYKErOFTQODT",
        "outputId": "39d0dc37-b828-43c0-a0fb-762b2690244f"
      },
      "execution_count": 8,
      "outputs": [
        {
          "output_type": "execute_result",
          "data": {
            "text/plain": [
              "<PIL.Image.Image image mode=RGB size=300x150>"
            ],
            "image/png": "[encoded data removed]"
          },
          "metadata": {},
          "execution_count": 8
        }
      ]
    },
    {
      "cell_type": "code",
      "source": [
        "# Extracting text with custom configuration:\n",
        "\n",
        "custom_config = r'-l eng --oem 3 --psm 6'\n",
        "text = pytesseract.image_to_string(image, config = custom_config)\n",
        "print(text)"
      ],
      "metadata": {
        "colab": {
          "base_uri": "https://localhost:8080/"
        },
        "id": "ZPIHSVQdSJIR",
        "outputId": "445806a7-3429-47aa-aa18-1808709ce9d5"
      },
      "execution_count": 9,
      "outputs": [
        {
          "output_type": "stream",
          "name": "stdout",
          "text": [
            "Here is some text.\n",
            "Here is some bold.\n",
            "Here is some more.\n",
            "This is in bold.\n",
            "Here is the last.\n",
            "\f\n"
          ]
        }
      ]
    },
    {
      "cell_type": "code",
      "source": [
        "# To remove irrelevant symbols:\n",
        "\n",
        "try:\n",
        "  text = pytesseract.image_to_string(image, lang=\"eng\")\n",
        "  remove = \"!()@—*“>+-/,'|£#%$&^_~\"\n",
        "  new = text\n",
        "  for character in remove:\n",
        "    new = new.replace(character,\"\")\n",
        "  print(new)\n",
        "except IOError as e:\n",
        "  print(\"Error (%s).\" %e)"
      ],
      "metadata": {
        "colab": {
          "base_uri": "https://localhost:8080/"
        },
        "id": "2e3TLExfTgqs",
        "outputId": "5a7df0fa-7b56-4ab5-a8e3-b4390bee14a9"
      },
      "execution_count": 10,
      "outputs": [
        {
          "output_type": "stream",
          "name": "stdout",
          "text": [
            "Here is some text.\n",
            "Here is some bold.\n",
            "Here is some mor\n",
            "This is in bold.\n",
            "Here is the last.\n",
            "\n",
            " \n",
            "\f\n"
          ]
        }
      ]
    },
    {
      "cell_type": "code",
      "source": [
        "# Using opencv:\n",
        "\n",
        "image = cv2.imread('example.png')\n"
      ],
      "metadata": {
        "id": "rr4xbqfhWXQL"
      },
      "execution_count": 11,
      "outputs": []
    },
    {
      "cell_type": "code",
      "source": [
        "# Greyscale image:\n",
        "\n",
        "def get_greyscale(image):\n",
        "  return cv2.cvtColor(image, cv2.COLOR_BGR2GRAY)\n",
        "gray_image = get_greyscale(image)\n",
        "Image.fromarray(gray_image)\n"
      ],
      "metadata": {
        "colab": {
          "base_uri": "https://localhost:8080/",
          "height": 167
        },
        "id": "pnp2e5PZWsOq",
        "outputId": "30e06e0c-afee-4260-b518-a8674b5837dd"
      },
      "execution_count": 12,
      "outputs": [
        {
          "output_type": "execute_result",
          "data": {
            "text/plain": [
              "<PIL.Image.Image image mode=L size=300x150>"
            ],
            "image/png": "[encoded data removed]"
          },
          "metadata": {},
          "execution_count": 12
        }
      ]
    },
    {
      "cell_type": "code",
      "source": [
        "# Remove noise:\n",
        "\n",
        "def noise_removal(image):\n",
        "  return cv2.medianBlur(image,5)\n",
        "noise = noise_removal(gray_image)\n",
        "Image.fromarray(noise)\n"
      ],
      "metadata": {
        "colab": {
          "base_uri": "https://localhost:8080/",
          "height": 167
        },
        "id": "5FClkCfQXjmk",
        "outputId": "48df3e58-bd44-49fc-df40-5e0a1e94dc9d"
      },
      "execution_count": 13,
      "outputs": [
        {
          "output_type": "execute_result",
          "data": {
            "text/plain": [
              "<PIL.Image.Image image mode=L size=300x150>"
            ],
            "image/png": "[encoded data removed]"
          },
          "metadata": {},
          "execution_count": 13
        }
      ]
    },
    {
      "cell_type": "code",
      "source": [
        "# Thresholding:\n",
        "\n",
        "def threshold(image):\n",
        "  return cv2.threshold(image, 0, 255, cv2.THRESH_BINARY + cv2.THRESH_OTSU)[1]\n",
        "thresh = threshold(gray_image)\n",
        "Image.fromarray(thresh)"
      ],
      "metadata": {
        "colab": {
          "base_uri": "https://localhost:8080/",
          "height": 167
        },
        "id": "guoJnYo5YR77",
        "outputId": "e0601d3f-e293-4bc1-eddf-4184e7c13e1b"
      },
      "execution_count": 14,
      "outputs": [
        {
          "output_type": "execute_result",
          "data": {
            "text/plain": [
              "<PIL.Image.Image image mode=L size=300x150>"
            ],
            "image/png": "[encoded data removed]"
          },
          "metadata": {},
          "execution_count": 14
        }
      ]
    },
    {
      "cell_type": "code",
      "source": [
        "# Erosion:\n",
        "\n",
        "def erosion(image):\n",
        "  kernel = np.ones((5,5), np.uint8)\n",
        "  return cv2.erode(image, kernel, iterations=1)\n",
        "erode = erosion(gray_image)\n",
        "Image.fromarray(erode)"
      ],
      "metadata": {
        "colab": {
          "base_uri": "https://localhost:8080/",
          "height": 167
        },
        "id": "mhAX9kkoZGA9",
        "outputId": "033233d2-4fef-4401-b155-aafab0b50b72"
      },
      "execution_count": 15,
      "outputs": [
        {
          "output_type": "execute_result",
          "data": {
            "text/plain": [
              "<PIL.Image.Image image mode=L size=300x150>"
            ],
            "image/png": "[encoded data removed]"
          },
          "metadata": {},
          "execution_count": 15
        }
      ]
    },
    {
      "cell_type": "code",
      "source": [
        "# Morphology:\n",
        "\n",
        "def morph(image):\n",
        "    kernel = np.ones((5,5),np.uint8)\n",
        "    return cv2.morphologyEx(image, cv2.MORPH_OPEN, kernel)\n",
        "morphimg = morph(gray_image)\n",
        "Image.fromarray(morphimg)"
      ],
      "metadata": {
        "colab": {
          "base_uri": "https://localhost:8080/",
          "height": 167
        },
        "id": "7AYZrPXDaVj2",
        "outputId": "97dcf998-6cf7-4186-8efe-e85ee94e8fbb"
      },
      "execution_count": 16,
      "outputs": [
        {
          "output_type": "execute_result",
          "data": {
            "text/plain": [
              "<PIL.Image.Image image mode=L size=300x150>"
            ],
            "image/png": "[encoded data removed]"
          },
          "metadata": {},
          "execution_count": 16
        }
      ]
    },
    {
      "cell_type": "code",
      "source": [
        "# Canny edge detection:\n",
        "\n",
        "def canny(image):\n",
        "    return cv2.Canny(image, 100, 200)\n",
        "cannyimg = canny(gray_image)\n",
        "Image.fromarray(cannyimg)"
      ],
      "metadata": {
        "colab": {
          "base_uri": "https://localhost:8080/",
          "height": 167
        },
        "id": "k-FtM3IxapGi",
        "outputId": "a2df4ff0-a76a-442b-80b2-fc7e0be6746c"
      },
      "execution_count": 17,
      "outputs": [
        {
          "output_type": "execute_result",
          "data": {
            "text/plain": [
              "<PIL.Image.Image image mode=L size=300x150>"
            ],
            "image/png": "[encoded data removed]"
          },
          "metadata": {},
          "execution_count": 17
        }
      ]
    },
    {
      "cell_type": "code",
      "source": [
        "# Template matching\n",
        "def match_template(image, template):\n",
        "    return cv2.matchTemplate(image, template, cv2.TM_CCOEFF_NORMED)\n",
        "match = match_template(gray_image, gray_image)\n",
        "match"
      ],
      "metadata": {
        "colab": {
          "base_uri": "https://localhost:8080/"
        },
        "id": "_Qij5STHazEu",
        "outputId": "ab223b7d-bf02-4a85-e391-929f35de591d"
      },
      "execution_count": 18,
      "outputs": [
        {
          "output_type": "execute_result",
          "data": {
            "text/plain": [
              "array([[1.]], dtype=float32)"
            ]
          },
          "metadata": {},
          "execution_count": 18
        }
      ]
    },
    {
      "cell_type": "markdown",
      "source": [
        "As we are passing same image for matching we got the similarity of 100%."
      ],
      "metadata": {
        "id": "6NP-HKjMbk9W"
      }
    },
    {
      "cell_type": "code",
      "source": [
        "# Segregate every character in the text by creating a rectangle around it:\n",
        "\n",
        "img = cv2.imread('example.png')\n",
        "h, w, c = img.shape\n",
        "boxes = pytesseract.image_to_boxes(img)\n",
        "for b in boxes.splitlines():\n",
        "    b = b.split(' ')\n",
        "    img = cv2.rectangle(img, (int(b[1]), h - int(b[2])), (int(b[3]), h - int(b[4])), (0, 255, 0), 2)\n",
        "Image.fromarray(img)"
      ],
      "metadata": {
        "id": "RrVWRtTobtmk",
        "colab": {
          "base_uri": "https://localhost:8080/",
          "height": 167
        },
        "outputId": "31069233-2e9a-489c-fa8c-3e2054979da1"
      },
      "execution_count": 19,
      "outputs": [
        {
          "output_type": "execute_result",
          "data": {
            "text/plain": [
              "<PIL.Image.Image image mode=RGB size=300x150>"
            ],
            "image/png": "[encoded data removed]"
          },
          "metadata": {},
          "execution_count": 19
        }
      ]
    },
    {
      "cell_type": "code",
      "source": [],
      "metadata": {
        "id": "C6YgFEKJS-1Q"
      },
      "execution_count": null,
      "outputs": []
    }
  ]
}